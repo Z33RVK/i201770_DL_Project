{
 "cells": [
  {
   "cell_type": "code",
   "execution_count": 34,
   "metadata": {},
   "outputs": [],
   "source": [
    "# all relevant libraries\n",
    "import pandas as pd\n",
    "from sklearn.model_selection import train_test_split\n",
    "from sklearn.preprocessing import StandardScaler\n",
    "import numpy as np"
   ]
  },
  {
   "cell_type": "markdown",
   "metadata": {},
   "source": []
  },
  {
   "cell_type": "code",
   "execution_count": 35,
   "metadata": {},
   "outputs": [],
   "source": [
    "path1 = \"../Data/features_30_sec.csv\"\n",
    "dataset = pd.read_csv(path1)\n"
   ]
  },
  {
   "cell_type": "code",
   "execution_count": 36,
   "metadata": {},
   "outputs": [
    {
     "name": "stdout",
     "output_type": "stream",
     "text": [
      "['filename', 'length', 'chroma_stft_mean', 'chroma_stft_var', 'rms_mean', 'rms_var', 'spectral_centroid_mean', 'spectral_centroid_var', 'spectral_bandwidth_mean', 'spectral_bandwidth_var', 'rolloff_mean', 'rolloff_var', 'zero_crossing_rate_mean', 'zero_crossing_rate_var', 'harmony_mean', 'harmony_var', 'perceptr_mean', 'perceptr_var', 'tempo', 'mfcc1_mean', 'mfcc1_var', 'mfcc2_mean', 'mfcc2_var', 'mfcc3_mean', 'mfcc3_var', 'mfcc4_mean', 'mfcc4_var', 'mfcc5_mean', 'mfcc5_var', 'mfcc6_mean', 'mfcc6_var', 'mfcc7_mean', 'mfcc7_var', 'mfcc8_mean', 'mfcc8_var', 'mfcc9_mean', 'mfcc9_var', 'mfcc10_mean', 'mfcc10_var', 'mfcc11_mean', 'mfcc11_var', 'mfcc12_mean', 'mfcc12_var', 'mfcc13_mean', 'mfcc13_var', 'mfcc14_mean', 'mfcc14_var', 'mfcc15_mean', 'mfcc15_var', 'mfcc16_mean', 'mfcc16_var', 'mfcc17_mean', 'mfcc17_var', 'mfcc18_mean', 'mfcc18_var', 'mfcc19_mean', 'mfcc19_var', 'mfcc20_mean', 'mfcc20_var', 'label']\n"
     ]
    }
   ],
   "source": [
    "header_row = dataset.columns.tolist()\n",
    "print(header_row)"
   ]
  },
  {
   "cell_type": "code",
   "execution_count": 37,
   "metadata": {},
   "outputs": [
    {
     "name": "stdout",
     "output_type": "stream",
     "text": [
      "     mfcc1_mean     mfcc1_var  mfcc2_mean   mfcc2_var  mfcc3_mean   mfcc3_var   \n",
      "0   -113.570648   2564.207520  121.571793  295.913818  -19.168142  235.574432  \\\n",
      "1   -207.501694   7764.555176  123.991264  560.259949    8.955127  572.810913   \n",
      "2    -90.722595   3319.044922  140.446304  508.765045  -29.093889  411.781219   \n",
      "3   -199.544205   5507.517090  150.090897  456.505402    5.662678  257.161163   \n",
      "4   -160.337708   5195.291992  126.219635  853.784729  -35.587811  333.792938   \n",
      "..          ...           ...         ...         ...         ...         ...   \n",
      "995 -153.640961   2540.949463  109.864647  455.579956  -23.065695  189.883865   \n",
      "996 -142.392029   3282.358887  116.189629  345.518890  -32.147167  191.464813   \n",
      "997 -124.952271   1681.638794  115.177155  475.088074  -47.975151  290.302795   \n",
      "998 -225.007751  10766.367188  123.646751  492.819122   -9.724174  605.487488   \n",
      "999 -235.161972   7712.194336  123.870110  798.665283  -22.538395  518.708618   \n",
      "\n",
      "     mfcc4_mean   mfcc4_var  mfcc5_mean   mfcc5_var  ...  mfcc16_mean   \n",
      "0     42.366421  151.106873   -6.364664  167.934799  ...     0.752740  \\\n",
      "1     35.877647  264.506104    2.907320  279.932922  ...     0.927998   \n",
      "2     31.684334  144.090317  -13.984504  155.493759  ...     2.451690   \n",
      "3     26.859079  158.267303    1.771399  268.034393  ...     0.780874   \n",
      "4     22.148071  193.456100  -32.478600  336.276825  ...    -4.520576   \n",
      "..          ...         ...         ...         ...  ...          ...   \n",
      "995   59.050125  132.334518   -7.475873   92.553497  ...     1.789867   \n",
      "996   49.117840   66.674255   -8.373376   81.370674  ...     3.739020   \n",
      "997   52.814674  113.682693  -13.484810   77.294281  ...     1.838090   \n",
      "998   56.605164  189.945770   10.436500  156.834641  ...    -2.812176   \n",
      "999   52.939743  228.190399   -1.444669  182.343460  ...     1.794104   \n",
      "\n",
      "     mfcc16_var  mfcc17_mean  mfcc17_var  mfcc18_mean  mfcc18_var   \n",
      "0     52.420910    -1.690215   36.524071    -0.408979   41.597103  \\\n",
      "1     55.356403    -0.731125   60.314529     0.295073   48.120598   \n",
      "2     40.598766    -7.729093   47.639427    -1.816407   52.382141   \n",
      "3     44.427753    -3.319597   50.206673     0.636965   37.319130   \n",
      "4     86.099236    -5.454034   75.269707    -0.916874   53.613918   \n",
      "..          ...          ...         ...          ...         ...   \n",
      "995   45.050526   -13.289984   41.754955     2.484145   36.778877   \n",
      "996   33.851742   -10.848309   39.395096     1.881229   32.010040   \n",
      "997   33.597008   -12.845291   36.367264     3.440978   36.001110   \n",
      "998   46.324894    -4.416050   43.583942     1.556207   34.331261   \n",
      "999   59.167755    -7.069775   73.760391     0.028346   76.504326   \n",
      "\n",
      "     mfcc19_mean  mfcc19_var  mfcc20_mean  mfcc20_var  \n",
      "0      -2.303523   55.062923     1.221291   46.936035  \n",
      "1      -0.283518   51.106190     0.531217   45.786282  \n",
      "2      -3.439720   46.639660    -2.231258   30.573025  \n",
      "3      -0.619121   37.259739    -3.407448   31.949339  \n",
      "4      -4.404827   62.910812   -11.703234   55.195160  \n",
      "..           ...         ...          ...         ...  \n",
      "995    -6.713265   54.866825    -1.193787   49.950665  \n",
      "996    -7.461491   39.196327    -2.795338   31.773624  \n",
      "997   -12.588070   42.502201    -2.106337   29.865515  \n",
      "998    -5.041897   47.227180    -3.590644   41.299088  \n",
      "999    -2.025783   72.189316     1.155239   49.662510  \n",
      "\n",
      "[1000 rows x 40 columns]\n"
     ]
    }
   ],
   "source": [
    "import pandas as pd\n",
    "\n",
    "# Extract the MFCC feature columns\n",
    "mfcc_columns = ['mfcc1_mean', 'mfcc1_var', 'mfcc2_mean', 'mfcc2_var', 'mfcc3_mean', 'mfcc3_var', 'mfcc4_mean', 'mfcc4_var', 'mfcc5_mean', 'mfcc5_var', 'mfcc6_mean', 'mfcc6_var', 'mfcc7_mean', 'mfcc7_var', 'mfcc8_mean', 'mfcc8_var', 'mfcc9_mean', 'mfcc9_var', 'mfcc10_mean', 'mfcc10_var', 'mfcc11_mean', 'mfcc11_var', 'mfcc12_mean', 'mfcc12_var', 'mfcc13_mean', 'mfcc13_var', 'mfcc14_mean', 'mfcc14_var', 'mfcc15_mean', 'mfcc15_var', 'mfcc16_mean', 'mfcc16_var', 'mfcc17_mean', 'mfcc17_var', 'mfcc18_mean', 'mfcc18_var', 'mfcc19_mean', 'mfcc19_var', 'mfcc20_mean', 'mfcc20_var']\n",
    "\n",
    "mfcc_features = dataset[mfcc_columns]\n",
    "\n",
    "# Print the MFCC features\n",
    "print(mfcc_features)"
   ]
  },
  {
   "cell_type": "code",
   "execution_count": 38,
   "metadata": {},
   "outputs": [],
   "source": [
    "# Split the dataset into features and labels\n",
    "columns = ['filename','label']\n",
    "features = dataset.drop(columns=columns, axis=1)  # Drop the 'label' column\n",
    "labels = dataset['label']"
   ]
  },
  {
   "cell_type": "code",
   "execution_count": 39,
   "metadata": {},
   "outputs": [],
   "source": [
    "# Split the dataset into training and testing sets\n",
    "X_train, X_test, y_train, y_test = train_test_split(features, labels, test_size=0.2, random_state=42)"
   ]
  },
  {
   "cell_type": "code",
   "execution_count": 40,
   "metadata": {},
   "outputs": [],
   "source": [
    "# Initialize a scaler object\n",
    "scaler = StandardScaler()\n",
    "\n",
    "# Fit the scaler on the training features and transform the training features\n",
    "X_train_scaled = scaler.fit_transform(X_train)\n",
    "\n",
    "# Transform the testing features using the fitted scaler\n",
    "X_test_scaled = scaler.transform(X_test)"
   ]
  },
  {
   "cell_type": "code",
   "execution_count": 41,
   "metadata": {},
   "outputs": [],
   "source": [
    "# Reshape the features to a 3D array [samples, timesteps, features]\n",
    "# Assuming your features have shape (num_samples, num_features)\n",
    "num_timesteps = 1  # Adjust the number of timesteps based on your requirements\n",
    "X_train_reshaped = np.reshape(X_train_scaled, (X_train_scaled.shape[0], num_timesteps, X_train_scaled.shape[1]))\n",
    "X_test_reshaped = np.reshape(X_test_scaled, (X_test_scaled.shape[0], num_timesteps, X_test_scaled.shape[1]))"
   ]
  },
  {
   "cell_type": "code",
   "execution_count": 42,
   "metadata": {},
   "outputs": [],
   "source": [
    "from sklearn.preprocessing import LabelEncoder\n",
    "\n",
    "# Initialize a label encoder object\n",
    "label_encoder = LabelEncoder()\n",
    "\n",
    "# Fit and transform the label encoder on the training labels\n",
    "y_train_encoded = label_encoder.fit_transform(y_train)\n",
    "\n",
    "# Perform the same label encoding on the testing labels\n",
    "y_test_encoded = label_encoder.transform(y_test)"
   ]
  },
  {
   "cell_type": "code",
   "execution_count": 43,
   "metadata": {},
   "outputs": [
    {
     "name": "stdout",
     "output_type": "stream",
     "text": [
      "Epoch 1/10\n",
      "25/25 [==============================] - 3s 3ms/step - loss: 2.1914 - accuracy: 0.3013\n",
      "Epoch 2/10\n",
      "25/25 [==============================] - 0s 2ms/step - loss: 1.8964 - accuracy: 0.4350\n",
      "Epoch 3/10\n",
      "25/25 [==============================] - 0s 2ms/step - loss: 1.6082 - accuracy: 0.4538\n",
      "Epoch 4/10\n",
      "25/25 [==============================] - 0s 3ms/step - loss: 1.3681 - accuracy: 0.5337\n",
      "Epoch 5/10\n",
      "25/25 [==============================] - 0s 3ms/step - loss: 1.1775 - accuracy: 0.5900\n",
      "Epoch 6/10\n",
      "25/25 [==============================] - 0s 3ms/step - loss: 1.0205 - accuracy: 0.6825\n",
      "Epoch 7/10\n",
      "25/25 [==============================] - 0s 3ms/step - loss: 0.9021 - accuracy: 0.7050\n",
      "Epoch 8/10\n",
      "25/25 [==============================] - 0s 3ms/step - loss: 0.7970 - accuracy: 0.7475\n",
      "Epoch 9/10\n",
      "25/25 [==============================] - 0s 3ms/step - loss: 0.7157 - accuracy: 0.7738\n",
      "Epoch 10/10\n",
      "25/25 [==============================] - 0s 3ms/step - loss: 0.6387 - accuracy: 0.7950\n"
     ]
    }
   ],
   "source": [
    "from tensorflow.keras.models import Sequential\n",
    "from tensorflow.keras.layers import LSTM, Dense\n",
    "\n",
    "# Build the LSTM model\n",
    "model = Sequential()\n",
    "model.add(LSTM(units=64, input_shape=(num_timesteps, X_train_reshaped.shape[2])))\n",
    "model.add(Dense(units=64, activation='relu'))\n",
    "model.add(Dense(units=len(labels.unique()), activation='softmax'))  # Adjust the output units based on the number of classes\n",
    "\n",
    "# Compile the model\n",
    "model.compile(loss='sparse_categorical_crossentropy', optimizer='adam', metrics=['accuracy'])\n",
    "\n",
    "# Train the model\n",
    "history = model.fit(X_train_reshaped, y_train_encoded, epochs=10, batch_size=32)"
   ]
  },
  {
   "cell_type": "code",
   "execution_count": 45,
   "metadata": {},
   "outputs": [
    {
     "data": {
      "image/png": "[encoded data removed]",
      "text/plain": [
       "<Figure size 640x480 with 1 Axes>"
      ]
     },
     "metadata": {},
     "output_type": "display_data"
    }
   ],
   "source": [
    "import matplotlib.pyplot as plt\n",
    "\n",
    "# Extract the training and testing loss values from the history\n",
    "train_loss = history.history['loss']\n",
    "#val_loss = history.history['val_loss']\n",
    "\n",
    "# Plot the training and validation loss\n",
    "epochs = range(1, len(train_loss) + 1)\n",
    "plt.plot(epochs, train_loss, 'b', label='Training Loss')\n",
    "plt.plot(epochs, val_loss, 'r', label='Validation Loss')\n",
    "plt.title('Training and Validation Loss')\n",
    "plt.xlabel('Epochs')\n",
    "plt.ylabel('Loss')\n",
    "plt.legend()\n",
    "plt.show()"
   ]
  },
  {
   "cell_type": "code",
   "execution_count": 46,
   "metadata": {},
   "outputs": [
    {
     "name": "stderr",
     "output_type": "stream",
     "text": [
      "/usr/local/lib/python3.11/site-packages/keras/src/engine/training.py:3079: UserWarning: You are saving your model as an HDF5 file via `model.save()`. This file format is considered legacy. We recommend using instead the native Keras format, e.g. `model.save('my_model.keras')`.\n",
      "  saving_api.save_model(\n"
     ]
    }
   ],
   "source": [
    "model.save('rnn_model1.h5')"
   ]
  },
  {
   "cell_type": "code",
   "execution_count": 47,
   "metadata": {},
   "outputs": [
    {
     "name": "stdout",
     "output_type": "stream",
     "text": [
      "7/7 [==============================] - 1s 2ms/step - loss: 1.0344 - accuracy: 0.6450\n",
      "Test accuracy: 0.6449999809265137\n"
     ]
    }
   ],
   "source": [
    "# Evaluate the model on test data\n",
    "test_loss, test_acc = model.evaluate(X_test_reshaped, y_test_encoded)\n",
    "print(f'Test accuracy: {test_acc}')\n"
   ]
  }
 ],
 "metadata": {
  "kernelspec": {
   "display_name": "Python 3",
   "language": "python",
   "name": "python3"
  },
  "language_info": {
   "codemirror_mode": {
    "name": "ipython",
    "version": 3
   },
   "file_extension": ".py",
   "mimetype": "text/x-python",
   "name": "python",
   "nbconvert_exporter": "python",
   "pygments_lexer": "ipython3",
   "version": "3.11.6"
  }
 },
 "nbformat": 4,
 "nbformat_minor": 2
}
