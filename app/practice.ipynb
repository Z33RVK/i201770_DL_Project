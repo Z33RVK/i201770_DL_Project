{
 "cells": [
  {
   "cell_type": "code",
   "execution_count": 22,
   "metadata": {},
   "outputs": [
    {
     "name": "stderr",
     "output_type": "stream",
     "text": [
      "2023-12-03 21:55:19.843064: I tensorflow/core/platform/cpu_feature_guard.cc:182] This TensorFlow binary is optimized to use available CPU instructions in performance-critical operations.\n",
      "To enable the following instructions: AVX2 FMA, in other operations, rebuild TensorFlow with the appropriate compiler flags.\n"
     ]
    }
   ],
   "source": [
    "import pandas as pd\n",
    "import os\n",
    "import numpy as np\n",
    "from tensorflow.keras.models import load_model"
   ]
  },
  {
   "cell_type": "code",
   "execution_count": 29,
   "metadata": {},
   "outputs": [
    {
     "name": "stdout",
     "output_type": "stream",
     "text": [
      "1/1 [==============================] - 0s 103ms/step\n",
      "Actual Genre: 0    blues\n",
      "Name: label, dtype: object\n",
      "Predicted Genre:  blues\n"
     ]
    }
   ],
   "source": [
    "#extract audio_file from provided filename\n",
    "filename = 'blues.00000.wav'\n",
    "\n",
    "music_genre = {\n",
    "    1: 'pop' ,\n",
    "    2: 'metal',\n",
    "    3: 'disco',\n",
    "    4: 'blues',\n",
    "    5: 'reggae',\n",
    "    6: 'classical',\n",
    "    7: 'rock',\n",
    "    8: 'hiphop',\n",
    "    9: 'country',\n",
    "    10: 'jazz',\n",
    "}\n",
    "\n",
    "def extractAudio(filename):\n",
    "    path = '../Data/features_30_sec.csv'\n",
    "    dataset = pd.read_csv(path)\n",
    "    # Locate the row where the filename exists\n",
    "    row = dataset.loc[dataset['filename'] == filename]\n",
    "    return row\n",
    "\n",
    "def preProcess(data):\n",
    "    #print(type(data))\n",
    "    features = data.drop('filename',axis=1) #drop the filename column\n",
    "    X = np.array(features.drop('label',axis=1)) #drop the label column and store in X\n",
    "    y_true = np.array(data['label']) \n",
    "    \n",
    "    return X,y\n",
    "\n",
    "data_row = extractAudio(filename)\n",
    "#print(data_row)\n",
    "\n",
    "X,y_true = preProcess(data_row)\n",
    "\n",
    "model = load_model('../CNN/cnn_model6_30_features.h5')\n",
    "\n",
    "y_pred = model.predict(X)\n",
    "y_pred = np.argmax(y_pred)\n",
    "\n",
    "predicted_genre = music_genre.get(y_pred)\n",
    "print(\"Actual Genre:\", y_true)\n",
    "print(\"Predicted Genre: \",predicted_genre)\n",
    "\n"
   ]
  },
  {
   "cell_type": "code",
   "execution_count": null,
   "metadata": {},
   "outputs": [],
   "source": []
  }
 ],
 "metadata": {
  "kernelspec": {
   "display_name": "Python 3",
   "language": "python",
   "name": "python3"
  },
  "language_info": {
   "codemirror_mode": {
    "name": "ipython",
    "version": 3
   },
   "file_extension": ".py",
   "mimetype": "text/x-python",
   "name": "python",
   "nbconvert_exporter": "python",
   "pygments_lexer": "ipython3",
   "version": "3.11.6"
  }
 },
 "nbformat": 4,
 "nbformat_minor": 2
}
